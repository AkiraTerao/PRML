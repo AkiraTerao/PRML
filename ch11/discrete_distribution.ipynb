{
 "metadata": {
  "name": "",
  "signature": "sha256:16e6b6f4945050e629b6c292c2449378152fd786037a81761af2cf5c48d80157"
 },
 "nbformat": 3,
 "nbformat_minor": 0,
 "worksheets": [
  {
   "cells": [
    {
     "cell_type": "code",
     "collapsed": false,
     "input": [
      "# \u30dd\u30a2\u30bd\u30f3\u5206\u5e03\u306b\u5f93\u3046\u4e71\u6570\u3092\u7d2f\u7a4d\u5206\u5e03\u95a2\u6570\u304b\u3089\u751f\u6210\n",
      "import numpy as np\n",
      "from scipy.stats import uniform, poisson\n",
      "import matplotlib.pyplot as plt\n",
      "\n",
      "# \u30dd\u30a2\u30bd\u30f3\u5206\u5e03\u306e\u30d1\u30e9\u30e1\u30fc\u30bf\n",
      "lam = 4\n",
      "\n",
      "# \u3053\u306e\u5024\u307e\u3067\u78ba\u7387\u5024\u3092\u8a08\u7b97\n",
      "K = 20\n",
      "\n",
      "# \u30b5\u30f3\u30d7\u30ea\u30f3\u30b0\u6570\n",
      "N = 10000\n",
      "\n",
      "rv = poisson(mu=lam)\n",
      "\n",
      "# cdf\u306e\u8868\u3092\u8a08\u7b97\n",
      "t = np.arange(K)\n",
      "prob = rv.cdf(t)\n",
      "\n",
      "X = []\n",
      "for i in range(N):\n",
      "    u = uniform.rvs(loc=0, scale=1, size=1)\n",
      "    # prob < u\u306fcdf\u304cu\u3088\u308a\u5c0f\u3055\u3044\u3068\u304dTRUE\u3092\u8fd4\u3059\n",
      "    # TRUE\u306f1\u3068\u89e3\u91c8\u3055\u308c\u308b\u306e\u3067sum()\u3067TRUE\u306e\u6570\u3092\u30ab\u30a6\u30f3\u30c8\u3057\u3066\n",
      "    # \u30a4\u30f3\u30c7\u30c3\u30af\u30b9\u3092\u6c42\u3081\u3066\u3044\u308b\n",
      "    X.append(np.sum(prob < u))\n",
      "\n",
      "# \u30dd\u30a2\u30bd\u30f3\u5206\u5e03\u306b\u5f93\u3046\u4e71\u6570\u306e\u5206\u5e03\u3092\u63cf\u753b\n",
      "# hist()\u306enormed=True\u306f\u30d0\u30fc\u306e\u7a4d\u5206\u304c1\u306b\u306a\u308b\u78ba\u7387\u5bc6\u5ea6\u95a2\u6570\u306b\u306a\u308b\u305f\u3081\u96e2\u6563\u5206\u5e03\u3067\u306f\u4f7f\u3048\u306a\u3044\n",
      "# \u96e2\u6563\u5206\u5e03\u3067\u306f\u30d0\u30fc\u306e\u9ad8\u3055\u306e\u5408\u8a08\u304c1\u306b\u306a\u308b\u78ba\u7387\u8cea\u91cf\u95a2\u6570\u306b\u3059\u308b\u5fc5\u8981\u304c\u3042\u308b\n",
      "# http://stackoverflow.com/questions/3866520/plotting-histograms-whose-bar-heights-sum-to-1-in-matplotlib\n",
      "plt.figure(1)\n",
      "weights = np.ones_like(X) / float(len(X))\n",
      "plt.hist(X, nbins, weights=weights)\n",
      "plt.plot(t, rv.pmf(t), 'ro-', lw=1)\n",
      "\n",
      "plt.show()"
     ],
     "language": "python",
     "metadata": {},
     "outputs": [
      {
       "metadata": {},
       "output_type": "display_data",
       "png": "[encoded data removed]",
       "text": [
        "<matplotlib.figure.Figure at 0x3364c50>"
       ]
      }
     ],
     "prompt_number": 53
    },
    {
     "cell_type": "code",
     "collapsed": false,
     "input": [
      "# \u4e8c\u9805\u5206\u5e03\u306b\u5f93\u3046\u4e71\u6570\u3092\u7d2f\u7a4d\u5206\u5e03\u95a2\u6570\u304b\u3089\u751f\u6210\n",
      "import numpy as np\n",
      "from scipy.stats import uniform, binom\n",
      "import matplotlib.pyplot as plt\n",
      "\n",
      "# \u4e8c\u9805\u5206\u5e03\u306e\u30d1\u30e9\u30e1\u30fc\u30bf\n",
      "n = 20\n",
      "p = 0.5\n",
      "\n",
      "# \u3053\u306e\u5024\u307e\u3067\u78ba\u7387\u5024\u3092\u8a08\u7b97\n",
      "K = 40\n",
      "\n",
      "# \u30b5\u30f3\u30d7\u30ea\u30f3\u30b0\u6570\n",
      "N = 10000\n",
      "\n",
      "rv = binom(n=n, p=p)\n",
      "\n",
      "# cdf\u306e\u8868\u3092\u8a08\u7b97\n",
      "t = np.arange(K)\n",
      "prob = rv.cdf(t)\n",
      "\n",
      "X = []\n",
      "for i in range(N):\n",
      "    u = uniform.rvs(loc=0, scale=1, size=1)\n",
      "    # prob < u\u306fcdf\u304cu\u3088\u308a\u5c0f\u3055\u3044\u3068\u304dTRUE\u3092\u8fd4\u3059\n",
      "    # TRUE\u306f1\u3068\u89e3\u91c8\u3055\u308c\u308b\u306e\u3067sum()\u3067TRUE\u306e\u6570\u3092\u30ab\u30a6\u30f3\u30c8\u3057\u3066\n",
      "    # \u30a4\u30f3\u30c7\u30c3\u30af\u30b9\u3092\u6c42\u3081\u3066\u3044\u308b\n",
      "    X.append(np.sum(prob < u))\n",
      "\n",
      "# \u30dd\u30a2\u30bd\u30f3\u5206\u5e03\u306b\u5f93\u3046\u4e71\u6570\u306e\u5206\u5e03\u3092\u63cf\u753b\n",
      "# hist()\u306enormed=True\u306f\u30d0\u30fc\u306e\u7a4d\u5206\u304c1\u306b\u306a\u308b\u78ba\u7387\u5bc6\u5ea6\u95a2\u6570\u306b\u306a\u308b\u305f\u3081\u96e2\u6563\u5206\u5e03\u3067\u306f\u4f7f\u3048\u306a\u3044\n",
      "# \u96e2\u6563\u5206\u5e03\u3067\u306f\u30d0\u30fc\u306e\u9ad8\u3055\u306e\u5408\u8a08\u304c1\u306b\u306a\u308b\u78ba\u7387\u8cea\u91cf\u95a2\u6570\u306b\u3059\u308b\u5fc5\u8981\u304c\u3042\u308b\n",
      "# http://stackoverflow.com/questions/3866520/plotting-histograms-whose-bar-heights-sum-to-1-in-matplotlib\n",
      "plt.figure(1)\n",
      "weights = np.ones_like(X) / float(len(X))\n",
      "plt.hist(X, nbins, weights=weights)\n",
      "plt.plot(t, rv.pmf(t), 'ro-', lw=1)\n",
      "\n",
      "plt.show()"
     ],
     "language": "python",
     "metadata": {},
     "outputs": []
    }
   ],
   "metadata": {}
  }
 ]
}