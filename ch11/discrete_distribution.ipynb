{
 "metadata": {
  "name": "",
  "signature": "sha256:07725b7ba5e1489ff08cc33a2e290e02068eea8d77b780b9a67e7b26b05dddfc"
 },
 "nbformat": 3,
 "nbformat_minor": 0,
 "worksheets": [
  {
   "cells": [
    {
     "cell_type": "code",
     "collapsed": false,
     "input": [
      "# \u30dd\u30a2\u30bd\u30f3\u5206\u5e03\u306b\u5f93\u3046\u4e71\u6570\u3092\u7d2f\u7a4d\u5206\u5e03\u95a2\u6570\u304b\u3089\u751f\u6210\n",
      "import numpy as np\n",
      "from scipy.stats import uniform, poisson\n",
      "import matplotlib.pyplot as plt\n",
      "\n",
      "# \u30dd\u30a2\u30bd\u30f3\u5206\u5e03\u306e\u30d1\u30e9\u30e1\u30fc\u30bf\n",
      "lam = 4\n",
      "\n",
      "N = 1000\n",
      "\n",
      "rv = poisson(mu=lam)\n",
      "\n",
      "# \u305d\u306e\u533a\u9593\u306ecdf\u306e\u8868\u3092\u8a08\u7b97\n",
      "t = np.arange(20)\n",
      "prob = rv.cdf(t)\n",
      "\n",
      "X = []\n",
      "for i in range(N):\n",
      "    u = uniform.rvs(loc=0, scale=1, size=1)\n",
      "    # prob < u\u306fcdf\u304cu\u3088\u308a\u5c0f\u3055\u3044\u3068\u304dTRUE\u3092\u8fd4\u3059\n",
      "    # TRUE\u306f1\u3068\u89e3\u91c8\u3055\u308c\u308b\u306e\u3067sum()\u3067TRUE\u306e\u6570\u3092\u30ab\u30a6\u30f3\u30c8\u3057\u3066\n",
      "    # \u30a4\u30f3\u30c7\u30c3\u30af\u30b9\u3092\u6c42\u3081\u3066\u3044\u308b\n",
      "    X.append(np.sum(prob < u))\n",
      "\n",
      "# \u30dd\u30a2\u30bd\u30f3\u5206\u5e03\u306b\u5f93\u3046\u4e71\u6570\u306e\u5206\u5e03\u3092\u63cf\u753b\n",
      "plt.figure(1)\n",
      "nbins = 50\n",
      "plt.histogram(X, nbins, density=True)\n",
      "plt.plot(t, rv.pmf(t), 'ro-', lw=1)\n",
      "\n",
      "plt.show()"
     ],
     "language": "python",
     "metadata": {},
     "outputs": [
      {
       "ename": "AttributeError",
       "evalue": "'module' object has no attribute 'histogram'",
       "output_type": "pyerr",
       "traceback": [
        "\u001b[1;31m---------------------------------------------------------------------------\u001b[0m\n\u001b[1;31mAttributeError\u001b[0m                            Traceback (most recent call last)",
        "\u001b[1;32m<ipython-input-76-af748b886901>\u001b[0m in \u001b[0;36m<module>\u001b[1;34m()\u001b[0m\n\u001b[0;32m     26\u001b[0m \u001b[0mplt\u001b[0m\u001b[1;33m.\u001b[0m\u001b[0mfigure\u001b[0m\u001b[1;33m(\u001b[0m\u001b[1;36m1\u001b[0m\u001b[1;33m)\u001b[0m\u001b[1;33m\u001b[0m\u001b[0m\n\u001b[0;32m     27\u001b[0m \u001b[0mnbins\u001b[0m \u001b[1;33m=\u001b[0m \u001b[1;36m50\u001b[0m\u001b[1;33m\u001b[0m\u001b[0m\n\u001b[1;32m---> 28\u001b[1;33m \u001b[0mplt\u001b[0m\u001b[1;33m.\u001b[0m\u001b[0mhistogram\u001b[0m\u001b[1;33m(\u001b[0m\u001b[0mX\u001b[0m\u001b[1;33m,\u001b[0m \u001b[0mnbins\u001b[0m\u001b[1;33m,\u001b[0m \u001b[0mdensity\u001b[0m\u001b[1;33m=\u001b[0m\u001b[0mTrue\u001b[0m\u001b[1;33m)\u001b[0m\u001b[1;33m\u001b[0m\u001b[0m\n\u001b[0m\u001b[0;32m     29\u001b[0m \u001b[0mplt\u001b[0m\u001b[1;33m.\u001b[0m\u001b[0mplot\u001b[0m\u001b[1;33m(\u001b[0m\u001b[0mt\u001b[0m\u001b[1;33m,\u001b[0m \u001b[0mrv\u001b[0m\u001b[1;33m.\u001b[0m\u001b[0mpmf\u001b[0m\u001b[1;33m(\u001b[0m\u001b[0mt\u001b[0m\u001b[1;33m)\u001b[0m\u001b[1;33m,\u001b[0m \u001b[1;34m'ro-'\u001b[0m\u001b[1;33m,\u001b[0m \u001b[0mlw\u001b[0m\u001b[1;33m=\u001b[0m\u001b[1;36m1\u001b[0m\u001b[1;33m)\u001b[0m\u001b[1;33m\u001b[0m\u001b[0m\n\u001b[0;32m     30\u001b[0m \u001b[1;33m\u001b[0m\u001b[0m\n",
        "\u001b[1;31mAttributeError\u001b[0m: 'module' object has no attribute 'histogram'"
       ]
      },
      {
       "metadata": {},
       "output_type": "display_data",
       "text": [
        "<matplotlib.figure.Figure at 0x3ed0690>"
       ]
      }
     ],
     "prompt_number": 76
    }
   ],
   "metadata": {}
  }
 ]
}