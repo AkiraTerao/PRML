{
 "metadata": {
  "name": "",
  "signature": "sha256:19c726ba5529a3569207c1a1487e6cd3ffcf4e5345724308bbb1b885bc8d1e2e"
 },
 "nbformat": 3,
 "nbformat_minor": 0,
 "worksheets": [
  {
   "cells": [
    {
     "cell_type": "code",
     "collapsed": false,
     "input": [],
     "language": "python",
     "metadata": {},
     "outputs": []
    }
   ],
   "metadata": {}
  }
 ]
}