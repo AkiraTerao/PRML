{
 "metadata": {
  "name": "",
  "signature": "sha256:c718de5f476f0976f9122510e830785ed4934a414a2f6e91ff29c7139e20265c"
 },
 "nbformat": 3,
 "nbformat_minor": 0,
 "worksheets": [
  {
   "cells": [
    {
     "cell_type": "code",
     "collapsed": false,
     "input": [
      "# \u4f8b5.1 \u30b3\u30fc\u30b7\u30fc\u5206\u5e03\u306e\u5bfe\u6570\u5c24\u5ea6\u6700\u5927\u5316\u554f\u984c\u3092\u6570\u5024\u8a08\u7b97\u3067\u89e3\u304f\n",
      "\n",
      "import numpy as np\n",
      "from scipy.stats import cauchy\n",
      "from scipy.optimize import brentq\n",
      "\n",
      "def L(theta, X):\n",
      "    \"\"\"\u30b3\u30fc\u30b7\u30fc\u5206\u5e03\u306e\u5bfe\u6570\u5c24\u5ea6\u95a2\u6570\n",
      "    theta: \u63a8\u5b9a\u3057\u305f\u3044\u30b3\u30fc\u30b7\u30fc\u5206\u5e03\u306e\u30d1\u30e9\u30e1\u30fc\u30bf\n",
      "    X    : \u65e2\u77e5\u306e\u30c7\u30fc\u30bf\u30ea\u30b9\u30c8\"\"\"\n",
      "    theta = np.array([theta] * len(X))\n",
      "    return - np.sum(np.log(1 + (X - theta) ** 2))\n",
      "\n",
      "N = 500\n",
      "\n",
      "# f(x;0,1)\u306b\u3057\u305f\u304c\u3046\u30b3\u30fc\u30b7\u30fc\u4e71\u6570\u3092\u751f\u6210\n",
      "# \u3053\u306e\u30c7\u30fc\u30bf\u306e\u307f\u304b\u3089\u30d1\u30e9\u30e1\u30fc\u30bf\u3092\u6700\u5c24\u63a8\u5b9a\u3059\u308b\n",
      "# \u6b63\u89e3\u306ftheta=0\u3068\u3059\u3067\u306b\u308f\u304b\u3063\u3066\u3044\u308b\u304c\u30fb\u30fb\u30fb\n",
      "X = cauchy.rvs(loc=0, scale=1, size=N)\n",
      "\n",
      "print brentq(L, -10, 10, args=X)\n"
     ],
     "language": "python",
     "metadata": {},
     "outputs": [
      {
       "ename": "ValueError",
       "evalue": "f(a) and f(b) must have different signs",
       "output_type": "pyerr",
       "traceback": [
        "\u001b[1;31m---------------------------------------------------------------------------\u001b[0m\n\u001b[1;31mValueError\u001b[0m                                Traceback (most recent call last)",
        "\u001b[1;32m<ipython-input-17-b04164d41101>\u001b[0m in \u001b[0;36m<module>\u001b[1;34m()\u001b[0m\n\u001b[0;32m     19\u001b[0m \u001b[0mX\u001b[0m \u001b[1;33m=\u001b[0m \u001b[0mcauchy\u001b[0m\u001b[1;33m.\u001b[0m\u001b[0mrvs\u001b[0m\u001b[1;33m(\u001b[0m\u001b[0mloc\u001b[0m\u001b[1;33m=\u001b[0m\u001b[1;36m0\u001b[0m\u001b[1;33m,\u001b[0m \u001b[0mscale\u001b[0m\u001b[1;33m=\u001b[0m\u001b[1;36m1\u001b[0m\u001b[1;33m,\u001b[0m \u001b[0msize\u001b[0m\u001b[1;33m=\u001b[0m\u001b[0mN\u001b[0m\u001b[1;33m)\u001b[0m\u001b[1;33m\u001b[0m\u001b[0m\n\u001b[0;32m     20\u001b[0m \u001b[1;33m\u001b[0m\u001b[0m\n\u001b[1;32m---> 21\u001b[1;33m \u001b[1;32mprint\u001b[0m \u001b[0mbrentq\u001b[0m\u001b[1;33m(\u001b[0m\u001b[0mL\u001b[0m\u001b[1;33m,\u001b[0m \u001b[1;33m-\u001b[0m\u001b[1;36m10\u001b[0m\u001b[1;33m,\u001b[0m \u001b[1;36m10\u001b[0m\u001b[1;33m,\u001b[0m \u001b[0margs\u001b[0m\u001b[1;33m=\u001b[0m\u001b[0mX\u001b[0m\u001b[1;33m)\u001b[0m\u001b[1;33m\u001b[0m\u001b[0m\n\u001b[0m",
        "\u001b[1;32m/usr/local/lib/python2.7/dist-packages/scipy/optimize/zeros.pyc\u001b[0m in \u001b[0;36mbrentq\u001b[1;34m(f, a, b, args, xtol, rtol, maxiter, full_output, disp)\u001b[0m\n\u001b[0;32m    413\u001b[0m     \u001b[1;32mif\u001b[0m \u001b[0mrtol\u001b[0m \u001b[1;33m<\u001b[0m \u001b[0m_rtol\u001b[0m\u001b[1;33m:\u001b[0m\u001b[1;33m\u001b[0m\u001b[0m\n\u001b[0;32m    414\u001b[0m         \u001b[1;32mraise\u001b[0m \u001b[0mValueError\u001b[0m\u001b[1;33m(\u001b[0m\u001b[1;34m\"rtol too small (%g < %g)\"\u001b[0m \u001b[1;33m%\u001b[0m \u001b[1;33m(\u001b[0m\u001b[0mrtol\u001b[0m\u001b[1;33m,\u001b[0m \u001b[0m_rtol\u001b[0m\u001b[1;33m)\u001b[0m\u001b[1;33m)\u001b[0m\u001b[1;33m\u001b[0m\u001b[0m\n\u001b[1;32m--> 415\u001b[1;33m     \u001b[0mr\u001b[0m \u001b[1;33m=\u001b[0m \u001b[0m_zeros\u001b[0m\u001b[1;33m.\u001b[0m\u001b[0m_brentq\u001b[0m\u001b[1;33m(\u001b[0m\u001b[0mf\u001b[0m\u001b[1;33m,\u001b[0m\u001b[0ma\u001b[0m\u001b[1;33m,\u001b[0m\u001b[0mb\u001b[0m\u001b[1;33m,\u001b[0m\u001b[0mxtol\u001b[0m\u001b[1;33m,\u001b[0m\u001b[0mrtol\u001b[0m\u001b[1;33m,\u001b[0m\u001b[0mmaxiter\u001b[0m\u001b[1;33m,\u001b[0m\u001b[0margs\u001b[0m\u001b[1;33m,\u001b[0m\u001b[0mfull_output\u001b[0m\u001b[1;33m,\u001b[0m\u001b[0mdisp\u001b[0m\u001b[1;33m)\u001b[0m\u001b[1;33m\u001b[0m\u001b[0m\n\u001b[0m\u001b[0;32m    416\u001b[0m     \u001b[1;32mreturn\u001b[0m \u001b[0mresults_c\u001b[0m\u001b[1;33m(\u001b[0m\u001b[0mfull_output\u001b[0m\u001b[1;33m,\u001b[0m \u001b[0mr\u001b[0m\u001b[1;33m)\u001b[0m\u001b[1;33m\u001b[0m\u001b[0m\n\u001b[0;32m    417\u001b[0m \u001b[1;33m\u001b[0m\u001b[0m\n",
        "\u001b[1;31mValueError\u001b[0m: f(a) and f(b) must have different signs"
       ]
      }
     ],
     "prompt_number": 17
    }
   ],
   "metadata": {}
  }
 ]
}